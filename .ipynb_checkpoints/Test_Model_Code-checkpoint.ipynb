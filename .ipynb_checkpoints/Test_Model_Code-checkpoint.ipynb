{
 "cells": [
  {
   "cell_type": "code",
   "execution_count": 2,
   "metadata": {},
   "outputs": [],
   "source": [
    "import os\n",
    "import numpy as np\n",
    "import pandas as pd\n",
    "import tensorflow as tf\n",
    "from keras.applications.vgg16 import preprocess_input, decode_predictions\n",
    "from keras.models import load_model\n",
    "from keras.preprocessing.image import img_to_array, load_img\n",
    "from flask import Flask, redirect, url_for, request, render_template\n",
    "from keras.preprocessing import image\n",
    "#import tensorflow.compat.v2 as tf\n",
    "import tensorflow_hub as hub"
   ]
  },
  {
   "cell_type": "code",
   "execution_count": 6,
   "metadata": {},
   "outputs": [],
   "source": [
    "clas=pd.read_csv(r'C:\\Users\\hp\\Desktop\\Plants model\\classname.csv')\n",
    "class_names=list(clas.Class_Name)"
   ]
  },
  {
   "cell_type": "code",
   "execution_count": 16,
   "metadata": {},
   "outputs": [
    {
     "data": {
      "text/plain": [
       "'aegle_marmelos'"
      ]
     },
     "execution_count": 16,
     "metadata": {},
     "output_type": "execute_result"
    }
   ],
   "source": [
    "class_names[5]"
   ]
  },
  {
   "cell_type": "code",
   "execution_count": 3,
   "metadata": {},
   "outputs": [],
   "source": [
    "MODEL = load_model(r'C:\\Users\\hp\\Desktop\\Deploy_clone\\Deployed_ML_model_for_image_classifier\\Plant_model_5_Epoch_new.h5',custom_objects={'KerasLayer': hub.KerasLayer})"
   ]
  },
  {
   "cell_type": "code",
   "execution_count": 4,
   "metadata": {},
   "outputs": [
    {
     "name": "stdout",
     "output_type": "stream",
     "text": [
      "Model: \"sequential_1\"\n",
      "_________________________________________________________________\n",
      "Layer (type)                 Output Shape              Param #   \n",
      "=================================================================\n",
      "sequential (Sequential)      (None, 299, 299, 3)       0         \n",
      "_________________________________________________________________\n",
      "keras_layer (KerasLayer)     (None, 2048)              21802784  \n",
      "_________________________________________________________________\n",
      "dense (Dense)                (None, 88)                180312    \n",
      "=================================================================\n",
      "Total params: 21,983,096\n",
      "Trainable params: 21,948,664\n",
      "Non-trainable params: 34,432\n",
      "_________________________________________________________________\n"
     ]
    }
   ],
   "source": [
    "MODEL.summary()"
   ]
  },
  {
   "cell_type": "code",
   "execution_count": 7,
   "metadata": {},
   "outputs": [],
   "source": [
    "def model_predict(img_path):\n",
    "    '''\n",
    "        helper method to process an uploaded image\n",
    "    '''\n",
    "    image = load_img(img_path, target_size=(299, 299))\n",
    "    image = img_to_array(image)\n",
    "    image=image/255.0\n",
    "    #image = image.reshape((1, image.shape[0], image.shape[1], image.shape[2]))\n",
    "    #image = preprocess_input(image)\n",
    "    preds = MODEL.predict(image[np.newaxis, ...])\n",
    "    predicted_class = np.argmax(preds[0], axis=-1)\n",
    "    class_nam=class_names[predicted_class]\n",
    "    #global graph\n",
    "    #with graph.as_default():\n",
    "    return class_nam"
   ]
  },
  {
   "cell_type": "code",
   "execution_count": 10,
   "metadata": {},
   "outputs": [
    {
     "data": {
      "text/plain": [
       "'acacia_nilotica'"
      ]
     },
     "execution_count": 10,
     "metadata": {},
     "output_type": "execute_result"
    }
   ],
   "source": [
    "model_predict(r'C:\\Users\\hp\\Desktop\\Plants model\\Acacia_nilotica.jpg')"
   ]
  },
  {
   "cell_type": "code",
   "execution_count": 14,
   "metadata": {},
   "outputs": [],
   "source": [
    "def upload():\n",
    "    #if request.method == 'POST':\n",
    "        # get the file from the HTTP-POST request\n",
    "        #f = request.files['file']        \n",
    "        \n",
    "        # save the file to ./uploads\n",
    "        #basepath = os.path.dirname(__file__)\n",
    "        #file_path = os.path.join(basepath, 'uploads', f.filename)\n",
    "        #f.save(file_path)\n",
    "        \n",
    "        # make prediction about this image's class\n",
    "        preds = model_predict(r'C:\\Users\\hp\\Desktop\\Plants model\\Acacia_nilotica.jpg')\n",
    "        \n",
    "        #pred_class = decode_predictions(preds, top=10)\n",
    "        result = preds#str(pred_class[0][0][1])\n",
    "        #print('[PREDICTED CLASSES]: {}'.format(pred_class))\n",
    "        #print('[RESULT]: {}'.format(result))\n",
    "        print(result)\n",
    "        \n",
    "        return result"
   ]
  },
  {
   "cell_type": "code",
   "execution_count": 15,
   "metadata": {},
   "outputs": [
    {
     "name": "stdout",
     "output_type": "stream",
     "text": [
      "acacia_nilotica\n"
     ]
    },
    {
     "data": {
      "text/plain": [
       "'acacia_nilotica'"
      ]
     },
     "execution_count": 15,
     "metadata": {},
     "output_type": "execute_result"
    }
   ],
   "source": [
    "upload()"
   ]
  }
 ],
 "metadata": {
  "kernelspec": {
   "display_name": "Python 3",
   "language": "python",
   "name": "python3"
  },
  "language_info": {
   "codemirror_mode": {
    "name": "ipython",
    "version": 3
   },
   "file_extension": ".py",
   "mimetype": "text/x-python",
   "name": "python",
   "nbconvert_exporter": "python",
   "pygments_lexer": "ipython3",
   "version": "3.8.3"
  }
 },
 "nbformat": 4,
 "nbformat_minor": 4
}
